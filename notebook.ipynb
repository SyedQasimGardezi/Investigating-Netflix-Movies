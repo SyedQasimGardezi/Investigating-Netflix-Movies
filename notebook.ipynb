{
 "cells": [
  {
   "cell_type": "markdown",
   "id": "937acf3c-c077-4ca6-8d90-8f6dd4d13c54",
   "metadata": {},
   "source": [
    "<center><img src=\"redpopcorn.jpg\"></center>"
   ]
  },
  {
   "cell_type": "markdown",
   "id": "5962b2cd-17bb-4ec9-b2d5-68537ca26860",
   "metadata": {},
   "source": [
    "**Netflix**! What started in 1997 as a DVD rental service has since exploded into one of the largest entertainment and media companies.\n",
    "\n",
    "Given the large number of movies and series available on the platform, it is a perfect opportunity to flex your exploratory data analysis skills and dive into the entertainment industry.\n",
    "\n",
    "You work for a production company that specializes in nostalgic styles. You want to do some research on movies released in the 1990's. You'll delve into Netflix data and perform exploratory data analysis to better understand this awesome movie decade!\n",
    "\n",
    "You have been supplied with the dataset `netflix_data.csv`, along with the following table detailing the column names and descriptions. Feel free to experiment further after submitting!\n",
    "\n",
    "## The data\n",
    "### **netflix_data.csv**\n",
    "| Column | Description |\n",
    "|--------|-------------|\n",
    "| `show_id` | The ID of the show |\n",
    "| `type` | Type of show |\n",
    "| `title` | Title of the show |\n",
    "| `director` | Director of the show |\n",
    "| `cast` | Cast of the show |\n",
    "| `country` | Country of origin |\n",
    "| `date_added` | Date added to Netflix |\n",
    "| `release_year` | Year of Netflix release |\n",
    "| `duration` | Duration of the show in minutes |\n",
    "| `description` | Description of the show |\n",
    "| `genre` | Show genre |"
   ]
  },
  {
   "cell_type": "code",
   "execution_count": 28,
   "id": "320a3abc-8a36-4b2b-baaf-473325363a4d",
   "metadata": {
    "executionCancelledAt": null,
    "executionTime": 50,
    "lastExecutedAt": 1720954085751,
    "lastExecutedByKernel": "97838f8e-839e-4efb-96ff-520e15ff4f29",
    "lastScheduledRunId": null,
    "lastSuccessfullyExecutedCode": "# Importing pandas and matplotlib\nimport pandas as pd\nimport matplotlib.pyplot as plt\n\n# Read in the Netflix CSV as a DataFrame\nnetflix_df = pd.read_csv(\"netflix_data.csv\")"
   },
   "outputs": [],
   "source": [
    "# Importing pandas and matplotlib\n",
    "import pandas as pd\n",
    "import numpy as np\n",
    "import matplotlib.pyplot as plt\n",
    "\n",
    "# Read in the Netflix CSV as a DataFrame\n",
    "netflix_df = pd.read_csv(\"netflix_data.csv\")"
   ]
  },
  {
   "cell_type": "code",
   "execution_count": 29,
   "id": "72658473-114f-49eb-bd4e-cc03c710834a",
   "metadata": {
    "executionCancelledAt": null,
    "executionTime": 9,
    "lastExecutedAt": 1720954086136,
    "lastExecutedByKernel": "97838f8e-839e-4efb-96ff-520e15ff4f29",
    "lastScheduledRunId": null,
    "lastSuccessfullyExecutedCode": "# Start coding here! Use as many cells as you like"
   },
   "outputs": [],
   "source": [
    "# Start coding here! Use as many cells as you like"
   ]
  },
  {
   "cell_type": "code",
   "execution_count": 30,
   "id": "4b5b9d8b-a1fa-406d-853b-fb3f55bd1ebc",
   "metadata": {
    "executionCancelledAt": null,
    "executionTime": 11,
    "lastExecutedAt": 1720954424110,
    "lastExecutedByKernel": "97838f8e-839e-4efb-96ff-520e15ff4f29",
    "lastScheduledRunId": null,
    "lastSuccessfullyExecutedCode": "Type=netflix_df.loc[:,'type']\nYear=netflix_df.loc[:,'release_year']\nMovie=netflix_df[(Type=='Movie') & (Year < 2000) & (Year > 1989)]\ndurationArr=Movie.loc[:,'duration']\n#duration=np.mode(durationArr)\n#duration",
    "outputsMetadata": {
     "0": {
      "height": 338,
      "type": "dataFrame"
     }
    }
   },
   "outputs": [
    {
     "data": {
      "text/plain": [
       "94"
      ]
     },
     "execution_count": 30,
     "metadata": {},
     "output_type": "execute_result"
    }
   ],
   "source": [
    "# type column\n",
    "Type=netflix_df.loc[:,'type']\n",
    "# year column\n",
    "Year=netflix_df.loc[:,'release_year']\n",
    "# 90s Movies\n",
    "Movie=netflix_df[(Type=='Movie') & (Year < 2000) & (Year > 1989)]\n",
    "# duration column of 90s Movies\n",
    "durationArr=Movie.loc[:,'duration']\n",
    "# most frequent run time in 90s Movies\n",
    "unique,count=np.unique(durationArr,return_counts=True)\n",
    "duration=unique[np.argmax(count)]\n",
    "duration"
   ]
  },
  {
   "cell_type": "code",
   "execution_count": 32,
   "id": "63c0f269-ac1a-484f-a8be-f52b02c28f6c",
   "metadata": {
    "executionCancelledAt": null,
    "executionTime": 12,
    "lastExecutedAt": 1720954478349,
    "lastExecutedByKernel": "97838f8e-839e-4efb-96ff-520e15ff4f29",
    "lastScheduledRunId": null,
    "lastSuccessfullyExecutedCode": "durationArr\nshort_movie_count=len(durationArr<90)\nshort_movie_count"
   },
   "outputs": [
    {
     "data": {
      "text/plain": [
       "7"
      ]
     },
     "execution_count": 32,
     "metadata": {},
     "output_type": "execute_result"
    }
   ],
   "source": [
    "# Action Movies of 90s\n",
    "Genre=Movie.loc[:,'genre']\n",
    "ActionMovies=Movie[Genre=='Action']\n",
    "# Action Movies Duration\n",
    "ActionMoviesDuration=ActionMovies.loc[:,'duration']\n",
    "# Short Action Movies Count\n",
    "short_movie_count=len(ActionMoviesDuration[ActionMoviesDuration<90])\n",
    "short_movie_count"
   ]
  },
  {
   "cell_type": "code",
   "execution_count": null,
   "id": "65590978",
   "metadata": {},
   "outputs": [],
   "source": []
  }
 ],
 "metadata": {
  "colab": {
   "name": "Welcome to DataCamp Workspaces.ipynb",
   "provenance": []
  },
  "editor": "DataLab",
  "kernelspec": {
   "display_name": "Python 3 (ipykernel)",
   "language": "python",
   "name": "python3"
  },
  "language_info": {
   "codemirror_mode": {
    "name": "ipython",
    "version": 3
   },
   "file_extension": ".py",
   "mimetype": "text/x-python",
   "name": "python",
   "nbconvert_exporter": "python",
   "pygments_lexer": "ipython3",
   "version": "3.10.9"
  }
 },
 "nbformat": 4,
 "nbformat_minor": 5
}
